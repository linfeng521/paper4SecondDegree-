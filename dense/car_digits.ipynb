{
 "cells": [
  {
   "cell_type": "markdown",
   "metadata": {
    "scrolled": true
   },
   "source": [
    "### 导入tensorflow算法包"
   ]
  },
  {
   "cell_type": "code",
   "execution_count": null,
   "metadata": {},
   "outputs": [],
   "source": [
    "import os\n",
    "import numpy as np\n",
    "import pandas as pd\n",
    "import matplotlib.pyplot as plt\n",
    "import tensorflow as tf\n",
    "from tensorflow.keras import layers,models,losses\n",
    "%matplotlib inline"
   ]
  },
  {
   "cell_type": "markdown",
   "metadata": {},
   "source": [
    "### 导入预训练数据"
   ]
  },
  {
   "cell_type": "code",
   "execution_count": 2,
   "metadata": {},
   "outputs": [],
   "source": [
    "digits_train=pd.read_csv('./car/training/digits.csv')\n",
    "digits_valid=pd.read_csv('./car/validation/digits.csv')"
   ]
  },
  {
   "cell_type": "code",
   "execution_count": 3,
   "metadata": {},
   "outputs": [
    {
     "data": {
      "text/plain": [
       "((4698, 1281), (203, 1281))"
      ]
     },
     "execution_count": 3,
     "metadata": {},
     "output_type": "execute_result"
    }
   ],
   "source": [
    "digits_train.shape,digits_valid.shape"
   ]
  },
  {
   "cell_type": "code",
   "execution_count": 4,
   "metadata": {},
   "outputs": [
    {
     "data": {
      "text/plain": [
       "<matplotlib.image.AxesImage at 0x7f876ec56a58>"
      ]
     },
     "execution_count": 4,
     "metadata": {},
     "output_type": "execute_result"
    },
    {
     "data": {
      "image/png": "[encoded data removed]",
      "text/plain": [
       "<Figure size 432x288 with 1 Axes>"
      ]
     },
     "metadata": {
      "needs_background": "light"
     },
     "output_type": "display_data"
    }
   ],
   "source": [
    "img = digits_train.values[1000,0:-1].reshape(40,-1)\n",
    "plt.title(digits_train.values[1000,-1])\n",
    "plt.imshow(img)"
   ]
  },
  {
   "cell_type": "code",
   "execution_count": 5,
   "metadata": {},
   "outputs": [
    {
     "name": "stdout",
     "output_type": "stream",
     "text": [
      "(4698, 1280)\n",
      "(4698,)\n"
     ]
    }
   ],
   "source": [
    "x_train,y_train=digits_train.values[:,0:-1]/255,digits_train.values[:,-1]\n",
    "x_valid,y_valid=digits_valid.values[:,0:-1]/255,digits_valid.values[:,-1]\n",
    "digits_label=np.array([\"0\",\"1\",\"2\",\"3\",\"4\",\"5\",\"6\",\"7\",\"8\",\"9\",\n",
    "                       \"A\",\"B\",\"C\",\"D\",\"E\",\"F\",\"G\",\"H\",\"J\",\"K\",\n",
    "                       \"L\",\"M\",\"N\",\"P\",\"Q\",\"R\",\"S\",\"T\",\"U\",\"V\",\n",
    "                       \"W\",\"X\",\"Y\",\"Z\"])\n",
    "# x_train=x_train.reshape(-1,40,32)\n",
    "# x_valid=x_valid.reshape(-1,40,32)\n",
    "digits_label.size\n",
    "print(x_train.shape)\n",
    "print(y_train.shape)"
   ]
  },
  {
   "cell_type": "code",
   "execution_count": 6,
   "metadata": {},
   "outputs": [
    {
     "name": "stdout",
     "output_type": "stream",
     "text": [
      "Model: \"sequential\"\n",
      "_________________________________________________________________\n",
      "Layer (type)                 Output Shape              Param #   \n",
      "=================================================================\n",
      "dense (Dense)                (None, 300)               384300    \n",
      "_________________________________________________________________\n",
      "dense_1 (Dense)              (None, 100)               30100     \n",
      "_________________________________________________________________\n",
      "dense_2 (Dense)              (None, 34)                3434      \n",
      "=================================================================\n",
      "Total params: 417,834\n",
      "Trainable params: 417,834\n",
      "Non-trainable params: 0\n",
      "_________________________________________________________________\n"
     ]
    }
   ],
   "source": [
    "model_d=models.Sequential([\n",
    "#     layers.Conv2D(filters=32,kernel_size=(3,3),activation='relu',input_shape=[40,32,1]),\n",
    "#     layers.MaxPool2D(pool_size=(2,2)),\n",
    "#     layers.Conv2D(filters=64,kernel_size=(3,3),activation='relu'),\n",
    "#     layers.Flatten(),\n",
    "    layers.Dense(300,activation='relu',input_shape=[1280,]),\n",
    "    layers.Dense(100,activation='relu'),\n",
    "#     layers.Dropout(0.1),#Droput层0.1丢弃率\n",
    "    layers.Dense(34,activation='softmax')#分为34类包括10个数字(0-9)以及24个英文字母(除去\"I\"和\"O\")\n",
    "])\n",
    "model_d.summary()"
   ]
  },
  {
   "cell_type": "code",
   "execution_count": 7,
   "metadata": {},
   "outputs": [],
   "source": [
    "model_d.compile(optimizer=tf.keras.optimizers.Adam(lr=0.001),\n",
    "               loss=losses.sparse_categorical_crossentropy,\n",
    "               metrics=['accuracy'])"
   ]
  },
  {
   "cell_type": "code",
   "execution_count": 8,
   "metadata": {},
   "outputs": [
    {
     "name": "stdout",
     "output_type": "stream",
     "text": [
      "WARNING:tensorflow:From /usr/local/lib/python3.6/dist-packages/tensorflow/python/ops/math_grad.py:1250: add_dispatch_support.<locals>.wrapper (from tensorflow.python.ops.array_ops) is deprecated and will be removed in a future version.\n",
      "Instructions for updating:\n",
      "Use tf.where in 2.0, which has the same broadcast rule as np.where\n",
      "Train on 4698 samples, validate on 203 samples\n",
      "Epoch 1/10\n",
      "4698/4698 [==============================] - 1s 311us/sample - loss: 0.6497 - accuracy: 0.8370 - val_loss: 0.0604 - val_accuracy: 0.9901\n",
      "Epoch 2/10\n",
      "4698/4698 [==============================] - 1s 130us/sample - loss: 0.0605 - accuracy: 0.9877 - val_loss: 0.0228 - val_accuracy: 1.0000\n",
      "Epoch 3/10\n",
      "4698/4698 [==============================] - 1s 122us/sample - loss: 0.0273 - accuracy: 0.9947 - val_loss: 0.0378 - val_accuracy: 0.9852\n",
      "Epoch 4/10\n",
      "4698/4698 [==============================] - 1s 121us/sample - loss: 0.0112 - accuracy: 0.9974 - val_loss: 0.0258 - val_accuracy: 0.9901\n",
      "Epoch 5/10\n",
      "4698/4698 [==============================] - 1s 120us/sample - loss: 0.0042 - accuracy: 0.9994 - val_loss: 0.0229 - val_accuracy: 0.9901\n",
      "Epoch 6/10\n",
      "4698/4698 [==============================] - 1s 121us/sample - loss: 0.0016 - accuracy: 1.0000 - val_loss: 0.0344 - val_accuracy: 0.9951\n",
      "Epoch 7/10\n",
      "4698/4698 [==============================] - 1s 122us/sample - loss: 0.0012 - accuracy: 1.0000 - val_loss: 0.0344 - val_accuracy: 0.9901\n",
      "Epoch 8/10\n",
      "4698/4698 [==============================] - 1s 119us/sample - loss: 7.9186e-04 - accuracy: 1.0000 - val_loss: 0.0303 - val_accuracy: 0.9951\n",
      "Epoch 9/10\n",
      "4698/4698 [==============================] - 1s 120us/sample - loss: 5.9762e-04 - accuracy: 1.0000 - val_loss: 0.0228 - val_accuracy: 0.9901\n",
      "Epoch 10/10\n",
      "4698/4698 [==============================] - 1s 124us/sample - loss: 5.1284e-04 - accuracy: 1.0000 - val_loss: 0.0235 - val_accuracy: 0.9951\n"
     ]
    }
   ],
   "source": [
    "epochs=10\n",
    "history=model_d.fit(x_train,y_train,epochs=epochs,validation_data=(x_valid,y_valid))"
   ]
  },
  {
   "cell_type": "code",
   "execution_count": 9,
   "metadata": {
    "scrolled": true
   },
   "outputs": [],
   "source": [
    "model_d.save('./model_d.h5')"
   ]
  },
  {
   "cell_type": "code",
   "execution_count": null,
   "metadata": {},
   "outputs": [],
   "source": []
  },
  {
   "cell_type": "code",
   "execution_count": null,
   "metadata": {},
   "outputs": [],
   "source": []
  }
 ],
 "metadata": {
  "kernelspec": {
   "display_name": "Python 3",
   "language": "python",
   "name": "python3"
  },
  "language_info": {
   "codemirror_mode": {
    "name": "ipython",
    "version": 3
   },
   "file_extension": ".py",
   "mimetype": "text/x-python",
   "name": "python",
   "nbconvert_exporter": "python",
   "pygments_lexer": "ipython3",
   "version": "3.6.9"
  }
 },
 "nbformat": 4,
 "nbformat_minor": 2
}
