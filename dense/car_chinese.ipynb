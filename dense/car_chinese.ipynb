{
 "cells": [
  {
   "cell_type": "code",
   "execution_count": 1,
   "metadata": {
    "scrolled": true
   },
   "outputs": [],
   "source": [
    "import os\n",
    "import numpy as np\n",
    "import pandas as pd\n",
    "import matplotlib.pyplot as plt\n",
    "import tensorflow as tf\n",
    "from tensorflow.keras import layers,models,losses\n",
    "import cv2\n",
    "%matplotlib inline"
   ]
  },
  {
   "cell_type": "code",
   "execution_count": 2,
   "metadata": {},
   "outputs": [],
   "source": [
    "chinese_valid=pd.read_csv('./car/validation/chinese.csv')\n",
    "chinese_train=pd.read_csv('./car/training/chinese.csv')\n",
    "# chinese_train"
   ]
  },
  {
   "cell_type": "code",
   "execution_count": 3,
   "metadata": {},
   "outputs": [
    {
     "name": "stdout",
     "output_type": "stream",
     "text": [
      "6\n",
      "(1286, 1280)\n",
      "(1286,)\n"
     ]
    }
   ],
   "source": [
    "x_train,y_train=chinese_train.values[:,0:-1]/255,chinese_train.values[:,-1]#/255归一化很重要\n",
    "x_valid,y_valid=chinese_valid.values[:,0:-1]/255,chinese_valid.values[:,-1]\n",
    "chinese_label=np.array(['京','闽','粤','苏','沪','浙'])\n",
    "# x_train=x_train.reshape(-1,40,32,1)\n",
    "# x_valid=x_valid.reshape(-1,40,32,1)\n",
    "print(chinese_label.size)\n",
    "print(x_train.shape)\n",
    "print(y_train.shape)"
   ]
  },
  {
   "cell_type": "code",
   "execution_count": 9,
   "metadata": {},
   "outputs": [
    {
     "data": {
      "text/plain": [
       "<matplotlib.image.AxesImage at 0x7f8b76b5d1d0>"
      ]
     },
     "execution_count": 9,
     "metadata": {},
     "output_type": "execute_result"
    },
    {
     "name": "stderr",
     "output_type": "stream",
     "text": [
      "findfont: Font family ['sans-serif'] not found. Falling back to DejaVu Sans.\n",
      "findfont: Font family ['sans-serif'] not found. Falling back to DejaVu Sans.\n"
     ]
    },
    {
     "data": {
      "image/png": "[encoded data removed]",
      "text/plain": [
       "<Figure size 432x288 with 1 Axes>"
      ]
     },
     "metadata": {
      "needs_background": "light"
     },
     "output_type": "display_data"
    }
   ],
   "source": [
    "img = x_train[0].reshape(40,-1)\n",
    "# 支持中文\n",
    "plt.rcParams['font.sans-serif'] = ['SimHei']  # 用来正常显示中文标签\n",
    "plt.rcParams['axes.unicode_minus'] = False  # 用来正常显示负号\n",
    "plt.title(chinese_label[y_train[0]])\n",
    "plt.imshow(img)"
   ]
  },
  {
   "cell_type": "code",
   "execution_count": 10,
   "metadata": {},
   "outputs": [
    {
     "name": "stdout",
     "output_type": "stream",
     "text": [
      "Model: \"sequential\"\n",
      "_________________________________________________________________\n",
      "Layer (type)                 Output Shape              Param #   \n",
      "=================================================================\n",
      "dense (Dense)                (None, 300)               384300    \n",
      "_________________________________________________________________\n",
      "dense_1 (Dense)              (None, 100)               30100     \n",
      "_________________________________________________________________\n",
      "dense_2 (Dense)              (None, 6)                 606       \n",
      "=================================================================\n",
      "Total params: 415,006\n",
      "Trainable params: 415,006\n",
      "Non-trainable params: 0\n",
      "_________________________________________________________________\n"
     ]
    }
   ],
   "source": [
    "model_c=models.Sequential([\n",
    "    layers.Dense(300,activation='relu',input_shape=[1280,]),\n",
    "    layers.Dense(100,activation='relu'),                     \n",
    "    layers.Dense(6,activation='softmax')    \n",
    "])\n",
    "model_c.summary()"
   ]
  },
  {
   "cell_type": "code",
   "execution_count": 11,
   "metadata": {},
   "outputs": [],
   "source": [
    "model_c.compile(optimizer=tf.keras.optimizers.Adam(lr=0.001),\n",
    "               loss=tf.keras.losses.sparse_categorical_crossentropy,\n",
    "               metrics=['accuracy'])"
   ]
  },
  {
   "cell_type": "code",
   "execution_count": 12,
   "metadata": {},
   "outputs": [
    {
     "name": "stdout",
     "output_type": "stream",
     "text": [
      "WARNING:tensorflow:From /usr/local/lib/python3.6/dist-packages/tensorflow/python/ops/math_grad.py:1250: add_dispatch_support.<locals>.wrapper (from tensorflow.python.ops.array_ops) is deprecated and will be removed in a future version.\n",
      "Instructions for updating:\n",
      "Use tf.where in 2.0, which has the same broadcast rule as np.where\n",
      "Train on 1286 samples, validate on 32 samples\n",
      "Epoch 1/10\n",
      "1286/1286 [==============================] - 0s 230us/sample - loss: 0.3820 - accuracy: 0.9028 - val_loss: 0.0630 - val_accuracy: 0.9688\n",
      "Epoch 2/10\n",
      "1286/1286 [==============================] - 0s 112us/sample - loss: 0.0220 - accuracy: 0.9946 - val_loss: 0.0027 - val_accuracy: 1.0000\n",
      "Epoch 3/10\n",
      "1286/1286 [==============================] - 0s 113us/sample - loss: 0.0059 - accuracy: 0.9977 - val_loss: 0.0020 - val_accuracy: 1.0000\n",
      "Epoch 4/10\n",
      "1286/1286 [==============================] - 0s 110us/sample - loss: 0.0019 - accuracy: 1.0000 - val_loss: 8.4053e-04 - val_accuracy: 1.0000\n",
      "Epoch 5/10\n",
      "1286/1286 [==============================] - 0s 116us/sample - loss: 9.4772e-04 - accuracy: 1.0000 - val_loss: 7.1745e-04 - val_accuracy: 1.0000\n",
      "Epoch 6/10\n",
      "1286/1286 [==============================] - 0s 113us/sample - loss: 7.2562e-04 - accuracy: 1.0000 - val_loss: 8.1058e-04 - val_accuracy: 1.0000\n",
      "Epoch 7/10\n",
      "1286/1286 [==============================] - 0s 111us/sample - loss: 5.1708e-04 - accuracy: 1.0000 - val_loss: 6.7863e-04 - val_accuracy: 1.0000\n",
      "Epoch 8/10\n",
      "1286/1286 [==============================] - 0s 110us/sample - loss: 4.2505e-04 - accuracy: 1.0000 - val_loss: 5.8923e-04 - val_accuracy: 1.0000\n",
      "Epoch 9/10\n",
      "1286/1286 [==============================] - 0s 111us/sample - loss: 3.5665e-04 - accuracy: 1.0000 - val_loss: 4.3020e-04 - val_accuracy: 1.0000\n",
      "Epoch 10/10\n",
      "1286/1286 [==============================] - 0s 108us/sample - loss: 3.0250e-04 - accuracy: 1.0000 - val_loss: 5.1642e-04 - val_accuracy: 1.0000\n"
     ]
    }
   ],
   "source": [
    "epochs=10\n",
    "history=model_c.fit(x_train,y_train,epochs=epochs,validation_data=(x_valid,y_valid))"
   ]
  },
  {
   "cell_type": "code",
   "execution_count": 13,
   "metadata": {
    "scrolled": true
   },
   "outputs": [],
   "source": [
    "model_c.save('./model_c.h5')"
   ]
  },
  {
   "cell_type": "code",
   "execution_count": null,
   "metadata": {},
   "outputs": [],
   "source": []
  }
 ],
 "metadata": {
  "kernelspec": {
   "display_name": "Python 3",
   "language": "python",
   "name": "python3"
  },
  "language_info": {
   "codemirror_mode": {
    "name": "ipython",
    "version": 3
   },
   "file_extension": ".py",
   "mimetype": "text/x-python",
   "name": "python",
   "nbconvert_exporter": "python",
   "pygments_lexer": "ipython3",
   "version": "3.6.9"
  }
 },
 "nbformat": 4,
 "nbformat_minor": 2
}
